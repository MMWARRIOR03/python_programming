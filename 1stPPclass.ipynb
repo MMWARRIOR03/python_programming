{
  "cells": [
    {
      "cell_type": "markdown",
      "metadata": {
        "id": "view-in-github",
        "colab_type": "text"
      },
      "source": [
        "<a href=\"https://colab.research.google.com/github/MMWARRIOR03/python_programming/blob/main/1stPPclass.ipynb\" target=\"_parent\"><img src=\"https://colab.research.google.com/assets/colab-badge.svg\" alt=\"Open In Colab\"/></a>"
      ]
    },
    {
      "cell_type": "code",
      "execution_count": null,
      "metadata": {
        "colab": {
          "base_uri": "https://localhost:8080/"
        },
        "id": "pm4Q4-oDT2-F",
        "outputId": "745e6f95-fd6f-4523-b711-4859da9200ea"
      },
      "outputs": [
        {
          "name": "stdout",
          "output_type": "stream",
          "text": [
            "enter age443\n",
            "443\n"
          ]
        }
      ],
      "source": [
        "age=int(input(\"enter age\"))\n",
        "print(age)"
      ]
    },
    {
      "cell_type": "code",
      "source": [
        "def is_leap_year(year):\n",
        "    if (year % 4 == 0 and year % 100 != 0) or (year % 400 == 0):\n",
        "        return True\n",
        "    else:\n",
        "        return False\n",
        "\n",
        "year = int(input(\"Enter the year\"))\n",
        "if is_leap_year(year):\n",
        "    print(f\"{year} is a leap year.\")\n",
        "else:\n",
        "    print(f\"{year} is not a leap year.\")\n"
      ],
      "metadata": {
        "colab": {
          "base_uri": "https://localhost:8080/"
        },
        "id": "p2Tm8iNkcXUf",
        "outputId": "885ee945-9568-4d25-9c89-595c9e0a7dbb"
      },
      "execution_count": null,
      "outputs": [
        {
          "output_type": "stream",
          "name": "stdout",
          "text": [
            "Enter the year2020\n",
            "2020 is a leap year.\n"
          ]
        }
      ]
    },
    {
      "cell_type": "code",
      "source": [
        "def simple_interest(principal, rate, time):\n",
        "    interest = (principal * rate * time) / 100\n",
        "    return interest\n",
        "\n",
        "\n",
        "P = 10000\n",
        "R = 5\n",
        "T = 3\n",
        "\n",
        "interest = simple_interest(P, R, T)\n",
        "print(f\"Simple Interest for Principal = {P}, Rate = {R}%, Time = {T} years is: {interest}\")\n"
      ],
      "metadata": {
        "colab": {
          "base_uri": "https://localhost:8080/"
        },
        "id": "1KbwKnUicYiK",
        "outputId": "c84943f8-718f-426c-dbfc-84a339fd80ca"
      },
      "execution_count": null,
      "outputs": [
        {
          "output_type": "stream",
          "name": "stdout",
          "text": [
            "Simple Interest for Principal = 10000, Rate = 5%, Time = 3 years is: 1500.0\n"
          ]
        }
      ]
    },
    {
      "cell_type": "code",
      "execution_count": null,
      "metadata": {
        "colab": {
          "base_uri": "https://localhost:8080/"
        },
        "id": "v32q40QmT3P2",
        "outputId": "0cdba743-0a14-4fb0-8ef6-e02b44102afd"
      },
      "outputs": [
        {
          "output_type": "stream",
          "name": "stdout",
          "text": [
            "Enter the number of elements8\n",
            "0\n",
            "1\n",
            "1\n",
            "2\n",
            "3\n",
            "5\n",
            "8\n",
            "13\n"
          ]
        }
      ],
      "source": [
        "#Fibonacci series\n",
        "a,b=0,1\n",
        "n=int(input(\"Enter the number of elements\"))\n",
        "while(n>0):\n",
        " print(a)\n",
        " a,b=b,a+b\n",
        " n-=1"
      ]
    },
    {
      "cell_type": "code",
      "source": [
        "\n",
        "def factorial(n):\n",
        "    if n == 0 or n == 1:\n",
        "        return 1\n",
        "    else:\n",
        "        return n * factorial(n - 1)\n",
        "\n",
        "num = int(input(\"Enter the number for factorial\"))\n",
        "print(f\"Factorial is: {factorial(num)}\")\n"
      ],
      "metadata": {
        "colab": {
          "base_uri": "https://localhost:8080/"
        },
        "id": "wPoKPIOAZcph",
        "outputId": "f082bd13-49e8-43a0-b7f7-4f8410c24471"
      },
      "execution_count": null,
      "outputs": [
        {
          "output_type": "stream",
          "name": "stdout",
          "text": [
            "Enter the number for factorial5\n",
            "Factorial is: 120\n"
          ]
        }
      ]
    },
    {
      "cell_type": "code",
      "source": [],
      "metadata": {
        "id": "6ZjfQa9YcIEM"
      },
      "execution_count": null,
      "outputs": []
    }
  ],
  "metadata": {
    "colab": {
      "provenance": [],
      "authorship_tag": "ABX9TyMabVHFukeMGn8fSxAEKSUT",
      "include_colab_link": true
    },
    "kernelspec": {
      "display_name": "Python 3",
      "name": "python3"
    },
    "language_info": {
      "name": "python"
    }
  },
  "nbformat": 4,
  "nbformat_minor": 0
}