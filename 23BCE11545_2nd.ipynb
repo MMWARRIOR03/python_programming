{
  "nbformat": 4,
  "nbformat_minor": 0,
  "metadata": {
    "colab": {
      "provenance": [],
      "authorship_tag": "ABX9TyNeE+DBKdqeqPkm+XoyylQi",
      "include_colab_link": true
    },
    "kernelspec": {
      "name": "python3",
      "display_name": "Python 3"
    },
    "language_info": {
      "name": "python"
    }
  },
  "cells": [
    {
      "cell_type": "markdown",
      "metadata": {
        "id": "view-in-github",
        "colab_type": "text"
      },
      "source": [
        "<a href=\"https://colab.research.google.com/github/MMWARRIOR03/python_programming/blob/main/23BCE11545_2nd.ipynb\" target=\"_parent\"><img src=\"https://colab.research.google.com/assets/colab-badge.svg\" alt=\"Open In Colab\"/></a>"
      ]
    },
    {
      "cell_type": "code",
      "execution_count": 4,
      "metadata": {
        "colab": {
          "base_uri": "https://localhost:8080/"
        },
        "id": "w8_QAO5jnpQd",
        "outputId": "7169a564-abae-43f4-cb0a-758db5d94c6f"
      },
      "outputs": [
        {
          "output_type": "execute_result",
          "data": {
            "text/plain": [
              "['foot', 'fell', 'fastest']"
            ]
          },
          "metadata": {},
          "execution_count": 4
        }
      ],
      "source": [
        "import re\n",
        "re.findall(r'\\bf[a-z]*','which foot or hand fell fastest')\n"
      ]
    },
    {
      "cell_type": "code",
      "source": [
        "import numpy as np\n",
        "def countUnique(strg):\n",
        " nochars=0\n",
        " uchars=np.unique(list(strg))\n",
        " nochars=len(uchars)\n",
        " return nochars\n",
        "\n",
        "strg=\"mrinal\"\n",
        "leng=countUnique(strg)\n",
        "print(leng)"
      ],
      "metadata": {
        "colab": {
          "base_uri": "https://localhost:8080/"
        },
        "id": "8JoXgSVlp3xg",
        "outputId": "b0e8feac-aa57-431e-8581-5bee8fcd79ce"
      },
      "execution_count": 6,
      "outputs": [
        {
          "output_type": "stream",
          "name": "stdout",
          "text": [
            "6\n"
          ]
        }
      ]
    },
    {
      "cell_type": "code",
      "source": [
        "b=\"Hello, World!\"\n",
        "print(b[2:5])\n",
        "\n",
        "#upper,lower,strip replace\n",
        "print(b.upper())\n",
        "print(b.lower())\n",
        "print(b.strip())\n",
        "print(b.replace(\"e\",\"a\"))\n",
        "print(b.split())\n",
        "print(b.count(\"o\"))\n",
        "print(b.find(\"World\"))"
      ],
      "metadata": {
        "colab": {
          "base_uri": "https://localhost:8080/"
        },
        "id": "JlBjAA1erJjf",
        "outputId": "059dca29-6d79-490f-d6b4-5d1b6b384bbc"
      },
      "execution_count": 7,
      "outputs": [
        {
          "output_type": "stream",
          "name": "stdout",
          "text": [
            "llo\n",
            "HELLO, WORLD!\n",
            "hello, world!\n",
            "Hello, World!\n",
            "Hallo, World!\n",
            "['Hello,', 'World!']\n",
            "2\n",
            "7\n"
          ]
        }
      ]
    }
  ]
}