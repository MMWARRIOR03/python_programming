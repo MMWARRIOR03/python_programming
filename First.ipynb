{
  "nbformat": 4,
  "nbformat_minor": 0,
  "metadata": {
    "colab": {
      "provenance": [],
      "authorship_tag": "ABX9TyNcKhivl06Log2F7ik07XZX",
      "include_colab_link": true
    },
    "kernelspec": {
      "name": "python3",
      "display_name": "Python 3"
    },
    "language_info": {
      "name": "python"
    }
  },
  "cells": [
    {
      "cell_type": "markdown",
      "metadata": {
        "id": "view-in-github",
        "colab_type": "text"
      },
      "source": [
        "<a href=\"https://colab.research.google.com/github/MMWARRIOR03/python_programming/blob/main/First.ipynb\" target=\"_parent\"><img src=\"https://colab.research.google.com/assets/colab-badge.svg\" alt=\"Open In Colab\"/></a>"
      ]
    },
    {
      "cell_type": "code",
      "execution_count": 1,
      "metadata": {
        "id": "pm4Q4-oDT2-F",
        "colab": {
          "base_uri": "https://localhost:8080/"
        },
        "outputId": "745e6f95-fd6f-4523-b711-4859da9200ea"
      },
      "outputs": [
        {
          "output_type": "stream",
          "name": "stdout",
          "text": [
            "enter age443\n",
            "443\n"
          ]
        }
      ],
      "source": [
        "age=int(input(\"enter age\"))\n",
        "print(age)"
      ]
    },
    {
      "cell_type": "code",
      "source": [],
      "metadata": {
        "id": "v32q40QmT3P2"
      },
      "execution_count": null,
      "outputs": []
    }
  ]
}